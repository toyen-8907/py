{
 "cells": [
  {
   "cell_type": "markdown",
   "metadata": {},
   "source": [
    "# 小技巧"
   ]
  },
  {
   "cell_type": "code",
   "execution_count": null,
   "metadata": {},
   "outputs": [],
   "source": [
    "s = 0"
   ]
  },
  {
   "cell_type": "code",
   "execution_count": null,
   "metadata": {},
   "outputs": [],
   "source": [
    "s = s + 1"
   ]
  },
  {
   "cell_type": "code",
   "execution_count": null,
   "metadata": {},
   "outputs": [],
   "source": [
    "s"
   ]
  },
  {
   "cell_type": "code",
   "execution_count": null,
   "metadata": {},
   "outputs": [],
   "source": [
    "s"
   ]
  },
  {
   "cell_type": "markdown",
   "metadata": {},
   "source": [
    "# 迴圈"
   ]
  },
  {
   "cell_type": "code",
   "execution_count": 8,
   "metadata": {},
   "outputs": [
    {
     "name": "stdout",
     "output_type": "stream",
     "text": [
      "==\n",
      "\n",
      "==\n",
      "==\n",
      "==\n",
      "\n",
      "==\n",
      "==\n",
      "==\n",
      "==\n",
      "==\n",
      "\n",
      "==\n",
      "==\n",
      "==\n",
      "==\n",
      "==\n",
      "==\n",
      "==\n",
      "\n",
      "==\n",
      "==\n",
      "==\n",
      "==\n",
      "==\n",
      "==\n",
      "==\n",
      "==\n",
      "==\n",
      "\n"
     ]
    }
   ],
   "source": [
    "s = 1\n",
    "while s<10:\n",
    "    print(\"==\\n\"*s)\n",
    "    s+=2 #s = s + 2"
   ]
  },
  {
   "cell_type": "markdown",
   "metadata": {},
   "source": [
    "# 回覆機器人"
   ]
  },
  {
   "cell_type": "code",
   "execution_count": null,
   "metadata": {},
   "outputs": [],
   "source": [
    "message = \"\"\n",
    "while message != \"bye\":\n",
    "    message = input(\">>\")\n",
    "    print(\"QAQ\")"
   ]
  },
  {
   "cell_type": "markdown",
   "metadata": {},
   "source": [
    "# 匯率換算器"
   ]
  },
  {
   "cell_type": "code",
   "execution_count": null,
   "metadata": {},
   "outputs": [],
   "source": [
    "美金 = \"\"\n",
    "while 美金 != \"使用完畢\":\n",
    "    美金 = input(\"美元\")\n",
    "    if 美金 != \"使用完畢\":\n",
    "        台幣 = (float(美金)*30.5)\n",
    "        #print(\"新台幣\"+str(台幣)+\"元\") \n",
    "        print('新台幣 %f 元\\n美金為 %s'%(台幣,美金)) \n",
    "\n",
    "    elif 美金 == \"使用完畢\":\n",
    "        print('Thank you! %s'%美金)\n",
    "    else:\n",
    "        print('Please enter correct number!')\n",
    "    \n"
   ]
  },
  {
   "cell_type": "code",
   "execution_count": null,
   "metadata": {},
   "outputs": [],
   "source": []
  },
  {
   "cell_type": "code",
   "execution_count": null,
   "metadata": {},
   "outputs": [],
   "source": []
  },
  {
   "cell_type": "code",
   "execution_count": null,
   "metadata": {},
   "outputs": [],
   "source": []
  }
 ],
 "metadata": {
  "kernelspec": {
   "display_name": "Python 3",
   "language": "python",
   "name": "python3"
  },
  "language_info": {
   "codemirror_mode": {
    "name": "ipython",
    "version": 3
   },
   "file_extension": ".py",
   "mimetype": "text/x-python",
   "name": "python",
   "nbconvert_exporter": "python",
   "pygments_lexer": "ipython3",
   "version": "3.8.3"
  }
 },
 "nbformat": 4,
 "nbformat_minor": 4
}
